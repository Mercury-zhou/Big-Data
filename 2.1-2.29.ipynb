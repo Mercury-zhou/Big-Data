{
 "cells": [
  {
   "cell_type": "markdown",
   "id": "241571ba",
   "metadata": {},
   "source": [
    "## 代码2-1 创建数组并查看数组属性"
   ]
  },
  {
   "cell_type": "code",
   "execution_count": 1,
   "id": "4e827543",
   "metadata": {},
   "outputs": [],
   "source": [
    "import numpy as np"
   ]
  },
  {
   "cell_type": "code",
   "execution_count": 2,
   "id": "5d410a7c",
   "metadata": {},
   "outputs": [],
   "source": [
    "arr1=np.array([1,2,3,4])"
   ]
  },
  {
   "cell_type": "code",
   "execution_count": 3,
   "id": "067bc003",
   "metadata": {},
   "outputs": [
    {
     "name": "stdout",
     "output_type": "stream",
     "text": [
      "创建的数组为： [1 2 3 4]\n"
     ]
    }
   ],
   "source": [
    "print(\"创建的数组为：\",arr1)"
   ]
  },
  {
   "cell_type": "code",
   "execution_count": 4,
   "id": "1cff07ab",
   "metadata": {},
   "outputs": [],
   "source": [
    "arr2 = np.array([[1,2,3,4],[4,5,6,7],[7,8,9,10]])"
   ]
  },
  {
   "cell_type": "code",
   "execution_count": 5,
   "id": "d01003c2",
   "metadata": {},
   "outputs": [
    {
     "name": "stdout",
     "output_type": "stream",
     "text": [
      "[[ 1  2  3  4]\n",
      " [ 4  5  6  7]\n",
      " [ 7  8  9 10]]\n"
     ]
    }
   ],
   "source": [
    "print(arr2)"
   ]
  },
  {
   "cell_type": "code",
   "execution_count": 6,
   "id": "dd85a75e",
   "metadata": {},
   "outputs": [
    {
     "data": {
      "text/plain": [
       "(3, 4)"
      ]
     },
     "execution_count": 6,
     "metadata": {},
     "output_type": "execute_result"
    }
   ],
   "source": [
    "arr2.shape"
   ]
  },
  {
   "cell_type": "code",
   "execution_count": 7,
   "id": "97578274",
   "metadata": {},
   "outputs": [
    {
     "data": {
      "text/plain": [
       "(4,)"
      ]
     },
     "execution_count": 7,
     "metadata": {},
     "output_type": "execute_result"
    }
   ],
   "source": [
    "arr1.shape"
   ]
  },
  {
   "cell_type": "code",
   "execution_count": 8,
   "id": "0c2e4a4c",
   "metadata": {},
   "outputs": [
    {
     "data": {
      "text/plain": [
       "dtype('int32')"
      ]
     },
     "execution_count": 8,
     "metadata": {},
     "output_type": "execute_result"
    }
   ],
   "source": [
    "arr2.dtype"
   ]
  },
  {
   "cell_type": "code",
   "execution_count": 9,
   "id": "c47cba79",
   "metadata": {},
   "outputs": [
    {
     "data": {
      "text/plain": [
       "12"
      ]
     },
     "execution_count": 9,
     "metadata": {},
     "output_type": "execute_result"
    }
   ],
   "source": [
    "arr2.size"
   ]
  },
  {
   "cell_type": "code",
   "execution_count": 10,
   "id": "bd83a5f7",
   "metadata": {},
   "outputs": [
    {
     "data": {
      "text/plain": [
       "4"
      ]
     },
     "execution_count": 10,
     "metadata": {},
     "output_type": "execute_result"
    }
   ],
   "source": [
    "arr2.itemsize"
   ]
  },
  {
   "cell_type": "markdown",
   "id": "f65ea14d",
   "metadata": {},
   "source": [
    "## 代码2-2 重新设置数组的shape属性"
   ]
  },
  {
   "cell_type": "code",
   "execution_count": 11,
   "id": "30ebf73d",
   "metadata": {},
   "outputs": [],
   "source": [
    "arr2.shape = 4,3"
   ]
  },
  {
   "cell_type": "code",
   "execution_count": 12,
   "id": "2643ab5b",
   "metadata": {},
   "outputs": [
    {
     "name": "stdout",
     "output_type": "stream",
     "text": [
      "[[ 1  2  3]\n",
      " [ 4  4  5]\n",
      " [ 6  7  7]\n",
      " [ 8  9 10]]\n"
     ]
    }
   ],
   "source": [
    "print(arr2)"
   ]
  },
  {
   "cell_type": "markdown",
   "id": "7dbc7189",
   "metadata": {},
   "source": [
    "代码2-3 使用arange函数创建数组"
   ]
  },
  {
   "cell_type": "code",
   "execution_count": 13,
   "id": "0654c882",
   "metadata": {},
   "outputs": [],
   "source": [
    "arr3 = np.arange(0,1,0.1)"
   ]
  },
  {
   "cell_type": "code",
   "execution_count": 14,
   "id": "d0315254",
   "metadata": {},
   "outputs": [
    {
     "data": {
      "text/plain": [
       "array([0. , 0.1, 0.2, 0.3, 0.4, 0.5, 0.6, 0.7, 0.8, 0.9])"
      ]
     },
     "execution_count": 14,
     "metadata": {},
     "output_type": "execute_result"
    }
   ],
   "source": [
    "arr3"
   ]
  },
  {
   "cell_type": "markdown",
   "id": "9834191f",
   "metadata": {},
   "source": [
    "## 2-4 使用linspace函数创建数组"
   ]
  },
  {
   "cell_type": "code",
   "execution_count": 15,
   "id": "65f0eac9",
   "metadata": {},
   "outputs": [
    {
     "data": {
      "text/plain": [
       "array([0.        , 0.09090909, 0.18181818, 0.27272727, 0.36363636,\n",
       "       0.45454545, 0.54545455, 0.63636364, 0.72727273, 0.81818182,\n",
       "       0.90909091, 1.        ])"
      ]
     },
     "execution_count": 15,
     "metadata": {},
     "output_type": "execute_result"
    }
   ],
   "source": [
    "np.linspace(0,1,12)"
   ]
  },
  {
   "cell_type": "markdown",
   "id": "a5c4335d",
   "metadata": {},
   "source": [
    "## 2-5 使用logspace创建数组"
   ]
  },
  {
   "cell_type": "code",
   "execution_count": 16,
   "id": "3b938c0d",
   "metadata": {},
   "outputs": [
    {
     "data": {
      "text/plain": [
       "array([ 1.        ,  1.12883789,  1.27427499,  1.43844989,  1.62377674,\n",
       "        1.83298071,  2.06913808,  2.33572147,  2.6366509 ,  2.97635144,\n",
       "        3.35981829,  3.79269019,  4.2813324 ,  4.83293024,  5.45559478,\n",
       "        6.15848211,  6.95192796,  7.8475997 ,  8.8586679 , 10.        ])"
      ]
     },
     "execution_count": 16,
     "metadata": {},
     "output_type": "execute_result"
    }
   ],
   "source": [
    "np.logspace(0,1,20)"
   ]
  },
  {
   "cell_type": "markdown",
   "id": "5e70300c",
   "metadata": {},
   "source": [
    "## 2-6 使用zero 函数创建数组"
   ]
  },
  {
   "cell_type": "code",
   "execution_count": 17,
   "id": "59d443f9",
   "metadata": {},
   "outputs": [],
   "source": [
    "arr4 = np.zeros((2,3))"
   ]
  },
  {
   "cell_type": "code",
   "execution_count": 18,
   "id": "27061054",
   "metadata": {},
   "outputs": [
    {
     "data": {
      "text/plain": [
       "array([[0., 0., 0.],\n",
       "       [0., 0., 0.]])"
      ]
     },
     "execution_count": 18,
     "metadata": {},
     "output_type": "execute_result"
    }
   ],
   "source": [
    "arr4"
   ]
  },
  {
   "cell_type": "markdown",
   "id": "3c9e4b1c",
   "metadata": {},
   "source": [
    "## 2-7 使用eye 函数创建数组"
   ]
  },
  {
   "cell_type": "code",
   "execution_count": 19,
   "id": "38c93547",
   "metadata": {},
   "outputs": [
    {
     "data": {
      "text/plain": [
       "array([[1., 0., 0.],\n",
       "       [0., 1., 0.],\n",
       "       [0., 0., 1.]])"
      ]
     },
     "execution_count": 19,
     "metadata": {},
     "output_type": "execute_result"
    }
   ],
   "source": [
    "np.eye(3)"
   ]
  },
  {
   "cell_type": "markdown",
   "id": "f54bdb28",
   "metadata": {},
   "source": [
    "## 2-8 使用diag 函数创建数组"
   ]
  },
  {
   "cell_type": "code",
   "execution_count": 20,
   "id": "0191024a",
   "metadata": {},
   "outputs": [
    {
     "data": {
      "text/plain": [
       "array([[1, 0, 0, 0],\n",
       "       [0, 2, 0, 0],\n",
       "       [0, 0, 3, 0],\n",
       "       [0, 0, 0, 4]])"
      ]
     },
     "execution_count": 20,
     "metadata": {},
     "output_type": "execute_result"
    }
   ],
   "source": [
    "np.diag([1,2,3,4])"
   ]
  },
  {
   "cell_type": "markdown",
   "id": "26992fbe",
   "metadata": {},
   "source": [
    "## 2-9 使用ones 函数创建数组\n"
   ]
  },
  {
   "cell_type": "code",
   "execution_count": 21,
   "id": "7cdefa94",
   "metadata": {},
   "outputs": [
    {
     "data": {
      "text/plain": [
       "array([[1., 1., 1.],\n",
       "       [1., 1., 1.],\n",
       "       [1., 1., 1.],\n",
       "       [1., 1., 1.],\n",
       "       [1., 1., 1.]])"
      ]
     },
     "execution_count": 21,
     "metadata": {},
     "output_type": "execute_result"
    }
   ],
   "source": [
    "np.ones((5,3))"
   ]
  },
  {
   "cell_type": "markdown",
   "id": "f011dcc1",
   "metadata": {},
   "source": [
    "## 2-10数组的数据类型转换"
   ]
  },
  {
   "cell_type": "code",
   "execution_count": 22,
   "id": "2249a2d1",
   "metadata": {},
   "outputs": [
    {
     "data": {
      "text/plain": [
       "42.0"
      ]
     },
     "execution_count": 22,
     "metadata": {},
     "output_type": "execute_result"
    }
   ],
   "source": [
    "np.float64(42)"
   ]
  },
  {
   "cell_type": "code",
   "execution_count": 23,
   "id": "9515afdc",
   "metadata": {},
   "outputs": [
    {
     "data": {
      "text/plain": [
       "42"
      ]
     },
     "execution_count": 23,
     "metadata": {},
     "output_type": "execute_result"
    }
   ],
   "source": [
    "np.int8(42.0)"
   ]
  },
  {
   "cell_type": "code",
   "execution_count": 24,
   "id": "8ae50cd5",
   "metadata": {},
   "outputs": [
    {
     "name": "stdout",
     "output_type": "stream",
     "text": [
      "True\n"
     ]
    }
   ],
   "source": [
    "print(np.bool_(42))"
   ]
  },
  {
   "cell_type": "code",
   "execution_count": 25,
   "id": "3e789a61",
   "metadata": {},
   "outputs": [
    {
     "name": "stdout",
     "output_type": "stream",
     "text": [
      "False\n"
     ]
    }
   ],
   "source": [
    "print(np.bool_(0))"
   ]
  },
  {
   "cell_type": "code",
   "execution_count": 26,
   "id": "fce99fbb",
   "metadata": {},
   "outputs": [
    {
     "name": "stdout",
     "output_type": "stream",
     "text": [
      "1.0\n"
     ]
    }
   ],
   "source": [
    "print(np.float_(True))"
   ]
  },
  {
   "cell_type": "code",
   "execution_count": 27,
   "id": "868f32a5",
   "metadata": {},
   "outputs": [
    {
     "name": "stdout",
     "output_type": "stream",
     "text": [
      "0.0\n"
     ]
    }
   ],
   "source": [
    "print(np.float_(False))"
   ]
  },
  {
   "cell_type": "markdown",
   "id": "009b633f",
   "metadata": {},
   "source": [
    "## 2-11 创建数据类型"
   ]
  },
  {
   "cell_type": "code",
   "execution_count": 28,
   "id": "1f963134",
   "metadata": {},
   "outputs": [],
   "source": [
    "df = np.dtype([('name',np.str_,40),('numitems',np.int64),('price',np.float64)])"
   ]
  },
  {
   "cell_type": "code",
   "execution_count": 29,
   "id": "e494cf63",
   "metadata": {},
   "outputs": [
    {
     "name": "stdout",
     "output_type": "stream",
     "text": [
      "数据类型为：\n",
      " [('name', '<U40'), ('numitems', '<i8'), ('price', '<f8')]\n"
     ]
    }
   ],
   "source": [
    "print('数据类型为：\\n',df)"
   ]
  },
  {
   "cell_type": "markdown",
   "id": "67d451ae",
   "metadata": {},
   "source": [
    "## 2-12 查看数据类型"
   ]
  },
  {
   "cell_type": "code",
   "execution_count": 30,
   "id": "4407afa3",
   "metadata": {},
   "outputs": [
    {
     "name": "stdout",
     "output_type": "stream",
     "text": [
      "数据类型为： <U40\n"
     ]
    }
   ],
   "source": [
    "print('数据类型为：', df['name'])"
   ]
  },
  {
   "cell_type": "code",
   "execution_count": 31,
   "id": "b319673d",
   "metadata": {},
   "outputs": [
    {
     "name": "stdout",
     "output_type": "stream",
     "text": [
      "数据类型为： <U40\n"
     ]
    }
   ],
   "source": [
    "print('数据类型为：', np.dtype(df['name']))"
   ]
  },
  {
   "cell_type": "markdown",
   "id": "60ad5376",
   "metadata": {},
   "source": [
    "## 2-13 自定义数据类型"
   ]
  },
  {
   "cell_type": "code",
   "execution_count": 32,
   "id": "ac548cea",
   "metadata": {},
   "outputs": [],
   "source": [
    "itemz = np.array([('tomatoes', 42, 4.14),('cabbages',13,1.72)],dtype=df)"
   ]
  },
  {
   "cell_type": "code",
   "execution_count": 33,
   "id": "3446c947",
   "metadata": {},
   "outputs": [
    {
     "name": "stdout",
     "output_type": "stream",
     "text": [
      "自定义数据为: [('tomatoes', 42, 4.14) ('cabbages', 13, 1.72)]\n"
     ]
    }
   ],
   "source": [
    "print('自定义数据为:',itemz)"
   ]
  },
  {
   "cell_type": "markdown",
   "id": "d2a85580",
   "metadata": {},
   "source": [
    "## 2-14 使用random 函数生成随机数"
   ]
  },
  {
   "cell_type": "code",
   "execution_count": 34,
   "id": "9d8c9024",
   "metadata": {},
   "outputs": [
    {
     "name": "stdout",
     "output_type": "stream",
     "text": [
      "生成的随机数为: \n",
      " [0.12924488 0.42500365 0.2358468  0.01017612 0.23745165 0.51919865\n",
      " 0.66827686 0.38081375 0.6389195  0.72106575 0.30938302 0.43893605\n",
      " 0.81586767 0.18153956 0.89688655 0.95251298 0.90041798 0.29512883\n",
      " 0.11442889 0.58557171 0.9964393  0.91747883 0.23802336 0.79120316\n",
      " 0.76250789 0.52794084 0.01512664 0.50269588 0.19671698 0.90751949\n",
      " 0.94139549 0.51001785 0.73796927 0.32196386 0.67517685 0.4716836\n",
      " 0.74061042 0.73854793 0.79243337 0.65877032 0.33614669 0.40065419\n",
      " 0.82707395 0.86315545 0.25973792 0.73984722 0.25162553 0.73523415\n",
      " 0.90857504 0.17930786 0.08867392 0.13227536 0.82708047 0.64530181\n",
      " 0.2060498  0.30260826 0.48672975 0.59277547 0.77982694 0.88138474\n",
      " 0.81232666 0.23562836 0.12158814 0.23697797 0.55733725 0.11230857\n",
      " 0.69953366 0.39113326 0.6812235  0.3685306  0.01350427 0.58350105\n",
      " 0.73521521 0.76784101 0.62452481 0.60845198 0.48795263 0.61584814\n",
      " 0.05716889 0.56736896 0.55343496 0.36417197 0.86852982 0.98576672\n",
      " 0.10085893 0.52064385 0.26683643 0.93402594 0.99147164 0.97447386\n",
      " 0.35491541 0.13682882 0.91859728 0.22598667 0.6718871  0.52887197\n",
      " 0.69912907 0.70441327 0.54268162 0.25294294]\n"
     ]
    }
   ],
   "source": [
    "print('生成的随机数为: \\n', np.random.random(100))"
   ]
  },
  {
   "cell_type": "markdown",
   "id": "e38e9521",
   "metadata": {},
   "source": [
    "## 2-15 使用rand 函数生成服从均匀分布的随机数"
   ]
  },
  {
   "cell_type": "code",
   "execution_count": 35,
   "id": "294f38c6",
   "metadata": {},
   "outputs": [
    {
     "data": {
      "text/plain": [
       "array([[0.91850125, 0.72492815, 0.94228332, 0.26311252, 0.24270647],\n",
       "       [0.30598039, 0.74570546, 0.44538764, 0.66037151, 0.82511203],\n",
       "       [0.64444981, 0.60957024, 0.99483942, 0.66328558, 0.56783057],\n",
       "       [0.0848871 , 0.36207528, 0.38884996, 0.82022352, 0.81519252],\n",
       "       [0.815675  , 0.04739186, 0.53447233, 0.7968234 , 0.12079276],\n",
       "       [0.83574162, 0.46314789, 0.19003784, 0.19248346, 0.12421431],\n",
       "       [0.05148905, 0.74936158, 0.41921131, 0.16734262, 0.98532577],\n",
       "       [0.12206622, 0.87302276, 0.6555522 , 0.91634665, 0.94429915],\n",
       "       [0.18886292, 0.21186503, 0.33230039, 0.94345054, 0.29250142],\n",
       "       [0.89736164, 0.73126134, 0.95324428, 0.55509311, 0.77622429]])"
      ]
     },
     "execution_count": 35,
     "metadata": {},
     "output_type": "execute_result"
    }
   ],
   "source": [
    "np.random.rand(10,5)"
   ]
  },
  {
   "cell_type": "markdown",
   "id": "7a864eec",
   "metadata": {},
   "source": [
    "## 2-16 使用rand函数生成服从正态分布的随机数"
   ]
  },
  {
   "cell_type": "code",
   "execution_count": 36,
   "id": "1a42290d",
   "metadata": {},
   "outputs": [
    {
     "data": {
      "text/plain": [
       "array([[ 1.14389356, -1.37520694,  0.97735453, -1.46760214,  1.42470423],\n",
       "       [ 1.11219798, -0.11509096,  0.30415369,  0.65388946, -0.52359293],\n",
       "       [-0.63702382, -0.44881937, -1.52389044, -0.68823002, -1.36141154],\n",
       "       [ 0.32455397, -1.3746883 ,  0.16044139,  1.71194211,  0.41957053],\n",
       "       [-0.33098301, -0.0182576 ,  1.14253214, -0.16108905,  0.64326116],\n",
       "       [ 0.17245998,  0.76747058, -0.74440631, -0.13549252, -0.69379448],\n",
       "       [-1.10678127,  0.03221781, -0.53645785,  1.10288715,  0.55186701],\n",
       "       [ 0.95128758,  0.5553214 ,  1.99727095,  0.90469719,  2.62355635],\n",
       "       [ 1.06405642,  0.73328734,  0.02598015, -0.64565657, -1.20254134],\n",
       "       [-0.5967631 ,  2.24529481,  0.90879528, -0.8687447 ,  3.31202538]])"
      ]
     },
     "execution_count": 36,
     "metadata": {},
     "output_type": "execute_result"
    }
   ],
   "source": [
    "np.random.randn(10,5)"
   ]
  },
  {
   "cell_type": "markdown",
   "id": "67201d33",
   "metadata": {},
   "source": [
    "## 2-17 使用randit 函数生成指定范围的随机数"
   ]
  },
  {
   "cell_type": "code",
   "execution_count": 37,
   "id": "aa70d3de",
   "metadata": {},
   "outputs": [
    {
     "data": {
      "text/plain": [
       "array([[5, 9, 6, 5, 2],\n",
       "       [8, 4, 6, 2, 6]])"
      ]
     },
     "execution_count": 37,
     "metadata": {},
     "output_type": "execute_result"
    }
   ],
   "source": [
    "np.random.randint(2, 10, size=[2, 5])"
   ]
  },
  {
   "cell_type": "markdown",
   "id": "aee255c2",
   "metadata": {},
   "source": [
    "## 2-18 使用索引访问一维数组"
   ]
  },
  {
   "cell_type": "code",
   "execution_count": 38,
   "id": "182bfb4b",
   "metadata": {},
   "outputs": [],
   "source": [
    "arr = np.arange(10)"
   ]
  },
  {
   "cell_type": "code",
   "execution_count": 39,
   "id": "d55310d0",
   "metadata": {},
   "outputs": [
    {
     "name": "stdout",
     "output_type": "stream",
     "text": [
      "5\n"
     ]
    }
   ],
   "source": [
    "print(arr[5])"
   ]
  },
  {
   "cell_type": "code",
   "execution_count": 40,
   "id": "14576562",
   "metadata": {},
   "outputs": [
    {
     "name": "stdout",
     "output_type": "stream",
     "text": [
      "[3 4]\n"
     ]
    }
   ],
   "source": [
    "print(arr[3:5])"
   ]
  },
  {
   "cell_type": "code",
   "execution_count": 41,
   "id": "eca8326a",
   "metadata": {},
   "outputs": [
    {
     "name": "stdout",
     "output_type": "stream",
     "text": [
      "[0 1 2 3 4]\n"
     ]
    }
   ],
   "source": [
    "print(arr[:5])"
   ]
  },
  {
   "cell_type": "code",
   "execution_count": 42,
   "id": "ea5cce22",
   "metadata": {},
   "outputs": [
    {
     "name": "stdout",
     "output_type": "stream",
     "text": [
      "9\n"
     ]
    }
   ],
   "source": [
    "print(arr[-1])"
   ]
  },
  {
   "cell_type": "code",
   "execution_count": 43,
   "id": "c805d21b",
   "metadata": {},
   "outputs": [],
   "source": [
    "arr[2:4] = 100,101"
   ]
  },
  {
   "cell_type": "code",
   "execution_count": 44,
   "id": "d0175991",
   "metadata": {},
   "outputs": [
    {
     "name": "stdout",
     "output_type": "stream",
     "text": [
      "[  0   1 100 101   4   5   6   7   8   9]\n"
     ]
    }
   ],
   "source": [
    "print(arr)"
   ]
  },
  {
   "cell_type": "code",
   "execution_count": 45,
   "id": "cce33eb3",
   "metadata": {},
   "outputs": [
    {
     "name": "stdout",
     "output_type": "stream",
     "text": [
      "[  1 101   5   7]\n"
     ]
    }
   ],
   "source": [
    "print(arr[1:-1:2])"
   ]
  },
  {
   "cell_type": "code",
   "execution_count": 46,
   "id": "fb967ba6",
   "metadata": {},
   "outputs": [
    {
     "name": "stdout",
     "output_type": "stream",
     "text": [
      "[  5 101]\n"
     ]
    }
   ],
   "source": [
    "print(arr[5:1:-2])"
   ]
  },
  {
   "cell_type": "markdown",
   "id": "d2d39cf2",
   "metadata": {},
   "source": [
    "## 2-19 使用索引访问多维数组\n"
   ]
  },
  {
   "cell_type": "code",
   "execution_count": 47,
   "id": "bf615f33",
   "metadata": {},
   "outputs": [],
   "source": [
    "arr = np.array([[1, 2, 3, 4, 5] , [4, 5, 6, 7, 8] , [7, 8, 9, 10, 11]])"
   ]
  },
  {
   "cell_type": "code",
   "execution_count": 48,
   "id": "7e2d2139",
   "metadata": {},
   "outputs": [
    {
     "name": "stdout",
     "output_type": "stream",
     "text": [
      "[[ 1  2  3  4  5]\n",
      " [ 4  5  6  7  8]\n",
      " [ 7  8  9 10 11]]\n"
     ]
    }
   ],
   "source": [
    "print(arr)"
   ]
  },
  {
   "cell_type": "code",
   "execution_count": 49,
   "id": "9d1e53e8",
   "metadata": {},
   "outputs": [
    {
     "name": "stdout",
     "output_type": "stream",
     "text": [
      "[4 5]\n"
     ]
    }
   ],
   "source": [
    "print(arr[0, 3:5])"
   ]
  },
  {
   "cell_type": "code",
   "execution_count": 50,
   "id": "fd13b81d",
   "metadata": {},
   "outputs": [
    {
     "name": "stdout",
     "output_type": "stream",
     "text": [
      "[[ 6  7  8]\n",
      " [ 9 10 11]]\n"
     ]
    }
   ],
   "source": [
    "print(arr[1:,2:])"
   ]
  },
  {
   "cell_type": "code",
   "execution_count": 51,
   "id": "2ad809ed",
   "metadata": {},
   "outputs": [
    {
     "name": "stdout",
     "output_type": "stream",
     "text": [
      "[3 6 9]\n"
     ]
    }
   ],
   "source": [
    "print(arr[:,2])"
   ]
  },
  {
   "cell_type": "markdown",
   "id": "177a8efc",
   "metadata": {},
   "source": [
    "## 2-20 使用整数序列索引和布尔值索引访问多维数组"
   ]
  },
  {
   "cell_type": "code",
   "execution_count": 52,
   "id": "2614d0ff",
   "metadata": {},
   "outputs": [
    {
     "name": "stdout",
     "output_type": "stream",
     "text": [
      "[ 2  6 10]\n"
     ]
    }
   ],
   "source": [
    "print(arr[tuple([(0, 1, 2),(1, 2, 3)])])"
   ]
  },
  {
   "cell_type": "code",
   "execution_count": 53,
   "id": "7f684834",
   "metadata": {},
   "outputs": [
    {
     "name": "stdout",
     "output_type": "stream",
     "text": [
      "[[ 4  6  7]\n",
      " [ 7  9 10]]\n"
     ]
    }
   ],
   "source": [
    "print(arr[1:,(0, 2, 3)])"
   ]
  },
  {
   "cell_type": "code",
   "execution_count": 54,
   "id": "42b31d07",
   "metadata": {},
   "outputs": [
    {
     "name": "stdout",
     "output_type": "stream",
     "text": [
      "[3 9]\n"
     ]
    }
   ],
   "source": [
    "mask = np.array([1, 0, 1], dtype = np.bool_)\n",
    "print(arr[mask,2])"
   ]
  },
  {
   "cell_type": "markdown",
   "id": "871612d8",
   "metadata": {},
   "source": [
    "## 2-21 改变数组形状"
   ]
  },
  {
   "cell_type": "code",
   "execution_count": 55,
   "id": "d1d8c810",
   "metadata": {},
   "outputs": [],
   "source": [
    "arr = np.arange(12)"
   ]
  },
  {
   "cell_type": "code",
   "execution_count": 56,
   "id": "51c91813",
   "metadata": {},
   "outputs": [
    {
     "name": "stdout",
     "output_type": "stream",
     "text": [
      "[ 0  1  2  3  4  5  6  7  8  9 10 11]\n"
     ]
    }
   ],
   "source": [
    "print(arr)"
   ]
  },
  {
   "cell_type": "code",
   "execution_count": 57,
   "id": "4435c399",
   "metadata": {},
   "outputs": [
    {
     "name": "stdout",
     "output_type": "stream",
     "text": [
      "[[ 0  1  2  3]\n",
      " [ 4  5  6  7]\n",
      " [ 8  9 10 11]]\n"
     ]
    }
   ],
   "source": [
    "print(arr.reshape(3,4))"
   ]
  },
  {
   "cell_type": "code",
   "execution_count": 58,
   "id": "cfa0cd21",
   "metadata": {},
   "outputs": [
    {
     "name": "stdout",
     "output_type": "stream",
     "text": [
      "数组维度为:  2\n"
     ]
    }
   ],
   "source": [
    "print('数组维度为: ',arr.reshape(3,4).ndim)"
   ]
  },
  {
   "cell_type": "markdown",
   "id": "8def5639",
   "metadata": {},
   "source": [
    "## 2-22 使用ravel 函数展平数组\n"
   ]
  },
  {
   "cell_type": "code",
   "execution_count": 59,
   "id": "e986a17b",
   "metadata": {},
   "outputs": [],
   "source": [
    "arr = np.arange(12).reshape(3,4)"
   ]
  },
  {
   "cell_type": "code",
   "execution_count": 60,
   "id": "4d4b3b15",
   "metadata": {},
   "outputs": [
    {
     "name": "stdout",
     "output_type": "stream",
     "text": [
      "创建的二维数组为：\n",
      " [[ 0  1  2  3]\n",
      " [ 4  5  6  7]\n",
      " [ 8  9 10 11]]\n"
     ]
    }
   ],
   "source": [
    "print('创建的二维数组为：\\n',arr)"
   ]
  },
  {
   "cell_type": "code",
   "execution_count": 61,
   "id": "10996600",
   "metadata": {},
   "outputs": [
    {
     "name": "stdout",
     "output_type": "stream",
     "text": [
      "数组展平为： [ 0  1  2  3  4  5  6  7  8  9 10 11]\n"
     ]
    }
   ],
   "source": [
    "print('数组展平为：',arr.ravel())"
   ]
  },
  {
   "cell_type": "markdown",
   "id": "1f418b19",
   "metadata": {},
   "source": [
    "## 2-23 使用flatten 函数展平数组"
   ]
  },
  {
   "cell_type": "code",
   "execution_count": 62,
   "id": "28337bf4",
   "metadata": {},
   "outputs": [
    {
     "name": "stdout",
     "output_type": "stream",
     "text": [
      "[ 0  1  2  3  4  5  6  7  8  9 10 11]\n"
     ]
    }
   ],
   "source": [
    "print(arr.flatten()) #横向展平"
   ]
  },
  {
   "cell_type": "code",
   "execution_count": 63,
   "id": "6d0fbf4c",
   "metadata": {},
   "outputs": [
    {
     "name": "stdout",
     "output_type": "stream",
     "text": [
      "[ 0  4  8  1  5  9  2  6 10  3  7 11]\n"
     ]
    }
   ],
   "source": [
    "print(arr.flatten('F')) #纵向展平"
   ]
  },
  {
   "cell_type": "markdown",
   "id": "1b081d92",
   "metadata": {},
   "source": [
    "## 2-24 使用hstack 函数实现数组横向组合"
   ]
  },
  {
   "cell_type": "code",
   "execution_count": 64,
   "id": "bbc674e7",
   "metadata": {},
   "outputs": [],
   "source": [
    "arr1 = np.arange(12).reshape(3,4)"
   ]
  },
  {
   "cell_type": "code",
   "execution_count": 65,
   "id": "2e069aa5",
   "metadata": {},
   "outputs": [
    {
     "name": "stdout",
     "output_type": "stream",
     "text": [
      "创建的数组arr1为：\n",
      " [[ 0  1  2  3]\n",
      " [ 4  5  6  7]\n",
      " [ 8  9 10 11]]\n"
     ]
    }
   ],
   "source": [
    "print('创建的数组arr1为：\\n',arr1)"
   ]
  },
  {
   "cell_type": "code",
   "execution_count": 66,
   "id": "d8d616e9",
   "metadata": {},
   "outputs": [],
   "source": [
    "arr2 = arr1 * 3"
   ]
  },
  {
   "cell_type": "code",
   "execution_count": 67,
   "id": "6223e76b",
   "metadata": {},
   "outputs": [
    {
     "name": "stdout",
     "output_type": "stream",
     "text": [
      "创建的数组arr2为: \n",
      " [[ 0  3  6  9]\n",
      " [12 15 18 21]\n",
      " [24 27 30 33]]\n"
     ]
    }
   ],
   "source": [
    "print('创建的数组arr2为: \\n',arr2)"
   ]
  },
  {
   "cell_type": "code",
   "execution_count": 68,
   "id": "1d110533",
   "metadata": {},
   "outputs": [
    {
     "name": "stdout",
     "output_type": "stream",
     "text": [
      "横向组合后的数组为： \n",
      " [[ 0  1  2  3  0  3  6  9]\n",
      " [ 4  5  6  7 12 15 18 21]\n",
      " [ 8  9 10 11 24 27 30 33]]\n"
     ]
    }
   ],
   "source": [
    "print('横向组合后的数组为： \\n',np.hstack((arr1,arr2)))"
   ]
  },
  {
   "cell_type": "markdown",
   "id": "10e3a2d1",
   "metadata": {},
   "source": [
    "## 2-25 使用vstack 函数实现数组纵向组合"
   ]
  },
  {
   "cell_type": "code",
   "execution_count": 69,
   "id": "6030b2ef",
   "metadata": {},
   "outputs": [
    {
     "name": "stdout",
     "output_type": "stream",
     "text": [
      "[[ 0  1  2  3]\n",
      " [ 4  5  6  7]\n",
      " [ 8  9 10 11]\n",
      " [ 0  3  6  9]\n",
      " [12 15 18 21]\n",
      " [24 27 30 33]]\n"
     ]
    }
   ],
   "source": [
    "print(np.vstack((arr1,arr2)))"
   ]
  },
  {
   "cell_type": "markdown",
   "id": "e141b66f",
   "metadata": {},
   "source": [
    "## 2-26 使用concatenate 函数组合数组"
   ]
  },
  {
   "cell_type": "code",
   "execution_count": 70,
   "id": "d8955cc0",
   "metadata": {},
   "outputs": [
    {
     "name": "stdout",
     "output_type": "stream",
     "text": [
      "横向组合后的数组为: \n",
      " [[ 0  1  2  3  0  3  6  9]\n",
      " [ 4  5  6  7 12 15 18 21]\n",
      " [ 8  9 10 11 24 27 30 33]]\n"
     ]
    }
   ],
   "source": [
    "print('横向组合后的数组为: \\n',np.concatenate((arr1,arr2) , axis = 1))"
   ]
  },
  {
   "cell_type": "code",
   "execution_count": 71,
   "id": "3156de30",
   "metadata": {},
   "outputs": [
    {
     "name": "stdout",
     "output_type": "stream",
     "text": [
      "纵向组合后的数组为: \n",
      " [[ 0  1  2  3]\n",
      " [ 4  5  6  7]\n",
      " [ 8  9 10 11]\n",
      " [ 0  3  6  9]\n",
      " [12 15 18 21]\n",
      " [24 27 30 33]]\n"
     ]
    }
   ],
   "source": [
    "print('纵向组合后的数组为: \\n', np.concatenate((arr1,arr2), axis = 0))"
   ]
  },
  {
   "cell_type": "markdown",
   "id": "9fcfa118",
   "metadata": {},
   "source": [
    "## 2-27 使用hsplit 函数实现数组横向分割"
   ]
  },
  {
   "cell_type": "code",
   "execution_count": 72,
   "id": "dd04ea51",
   "metadata": {},
   "outputs": [],
   "source": [
    "arr = np.arange(16).reshape(4,4)"
   ]
  },
  {
   "cell_type": "code",
   "execution_count": 73,
   "id": "f3f9a5ec",
   "metadata": {},
   "outputs": [
    {
     "name": "stdout",
     "output_type": "stream",
     "text": [
      "[[ 0  1  2  3]\n",
      " [ 4  5  6  7]\n",
      " [ 8  9 10 11]\n",
      " [12 13 14 15]]\n"
     ]
    }
   ],
   "source": [
    "print(arr)"
   ]
  },
  {
   "cell_type": "code",
   "execution_count": 74,
   "id": "6576cf41",
   "metadata": {},
   "outputs": [
    {
     "name": "stdout",
     "output_type": "stream",
     "text": [
      "横向分割后的数组为: \n",
      " [array([[ 0,  1],\n",
      "       [ 4,  5],\n",
      "       [ 8,  9],\n",
      "       [12, 13]]), array([[ 2,  3],\n",
      "       [ 6,  7],\n",
      "       [10, 11],\n",
      "       [14, 15]])]\n"
     ]
    }
   ],
   "source": [
    "print('横向分割后的数组为: \\n', np.hsplit(arr,2))"
   ]
  },
  {
   "cell_type": "markdown",
   "id": "19087061",
   "metadata": {},
   "source": [
    "## 2-28 使用vsplit函数实现数组纵向分割\n"
   ]
  },
  {
   "cell_type": "code",
   "execution_count": 75,
   "id": "ce2f139b",
   "metadata": {},
   "outputs": [
    {
     "name": "stdout",
     "output_type": "stream",
     "text": [
      "纵向分割后的数组为： \n",
      " [array([[0, 1, 2, 3],\n",
      "       [4, 5, 6, 7]]), array([[ 8,  9, 10, 11],\n",
      "       [12, 13, 14, 15]])]\n"
     ]
    }
   ],
   "source": [
    "print('纵向分割后的数组为： \\n', np.vsplit(arr,2))"
   ]
  },
  {
   "cell_type": "markdown",
   "id": "aaf6e162",
   "metadata": {},
   "source": [
    "## 2-29使用split 分割数组"
   ]
  },
  {
   "cell_type": "code",
   "execution_count": 76,
   "id": "ef512833",
   "metadata": {},
   "outputs": [
    {
     "name": "stdout",
     "output_type": "stream",
     "text": [
      "横向分割后的数组： \n",
      " [array([[ 0,  1],\n",
      "       [ 4,  5],\n",
      "       [ 8,  9],\n",
      "       [12, 13]]), array([[ 2,  3],\n",
      "       [ 6,  7],\n",
      "       [10, 11],\n",
      "       [14, 15]])]\n"
     ]
    }
   ],
   "source": [
    "print('横向分割后的数组： \\n', np.split(arr, 2, axis = 1))"
   ]
  },
  {
   "cell_type": "code",
   "execution_count": 77,
   "id": "e85ceea8",
   "metadata": {},
   "outputs": [
    {
     "name": "stdout",
     "output_type": "stream",
     "text": [
      "纵向分割后的数组为： \n",
      " [array([[0, 1, 2, 3],\n",
      "       [4, 5, 6, 7]]), array([[ 8,  9, 10, 11],\n",
      "       [12, 13, 14, 15]])]\n"
     ]
    }
   ],
   "source": [
    "print('纵向分割后的数组为： \\n', np.split(arr, 2, axis = 0))"
   ]
  },
  {
   "cell_type": "code",
   "execution_count": null,
   "id": "f9733fa5",
   "metadata": {},
   "outputs": [],
   "source": []
  }
 ],
 "metadata": {
  "kernelspec": {
   "display_name": "Python 3",
   "language": "python",
   "name": "python3"
  },
  "language_info": {
   "codemirror_mode": {
    "name": "ipython",
    "version": 3
   },
   "file_extension": ".py",
   "mimetype": "text/x-python",
   "name": "python",
   "nbconvert_exporter": "python",
   "pygments_lexer": "ipython3",
   "version": "3.8.8"
  }
 },
 "nbformat": 4,
 "nbformat_minor": 5
}
